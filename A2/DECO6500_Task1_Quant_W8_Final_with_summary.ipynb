{
 "cells": [
  {
   "cell_type": "markdown",
   "id": "c001b852",
   "metadata": {},
   "source": [
    "\n",
    "# DECO6500 — Task 1 (Week 8): Quantitative Analysis of Usability Evaluation Data\n",
    "**Project:** Digital Refugees + City Information Sharing Platform\n",
    "\n",
    "**This notebook strictly matches the survey & current CSV header** (no FC items):  \n",
    "- **SUS:** `SUS1` … `SUS10`  \n",
    "- **UTAUT‑2 core:** `PE1`, `PE2`; `EE1`, `EE2`; `HM1`, `HM2`; `HT1`  \n",
    "- **Demographics/Psychographics:** `Age`, `Gender`, `Occupation`, `Experience`, `Confidence`  \n",
    "- **Task metrics:** `task_time` (seconds), `task_success` (1/0), `errors` (count)\n"
   ]
  },
  {
   "cell_type": "code",
   "id": "68f52130",
   "metadata": {
    "ExecuteTime": {
     "end_time": "2025-09-20T12:50:41.223383Z",
     "start_time": "2025-09-20T12:50:41.207988Z"
    }
   },
   "source": [
    "\n",
    "# === Setup ===\n",
    "import pandas as pd\n",
    "import numpy as np\n",
    "import matplotlib.pyplot as plt\n",
    "from scipy import stats\n",
    "\n",
    "pd.set_option('display.max_columns', None)"
   ],
   "outputs": [],
   "execution_count": 12
  },
  {
   "cell_type": "markdown",
   "id": "c09062b9",
   "metadata": {},
   "source": [
    "\n",
    "## 1. Load & Confirm Columns\n",
    "- Data path: `./participants_usability_dataset.csv`  \n",
    "- Below is the **exact** header detected (order does not affect analysis):\n"
   ]
  },
  {
   "cell_type": "code",
   "id": "b4366375",
   "metadata": {
    "ExecuteTime": {
     "end_time": "2025-09-20T12:50:41.238698Z",
     "start_time": "2025-09-20T12:50:41.232035Z"
    }
   },
   "source": [
    "\n",
    "csv_path = \"./participants_usability_dataset.csv\"\n",
    "df = pd.read_csv(csv_path)\n",
    "print(\"Shape:\", df.shape)\n",
    "list(df.columns)\n"
   ],
   "outputs": [
    {
     "name": "stdout",
     "output_type": "stream",
     "text": [
      "Shape: (16, 26)\n"
     ]
    },
    {
     "data": {
      "text/plain": [
       "['ID',\n",
       " 'Age',\n",
       " 'Gender',\n",
       " 'Occupation',\n",
       " 'Experience',\n",
       " 'Confidence',\n",
       " 'SUS1',\n",
       " 'SUS2',\n",
       " 'SUS3',\n",
       " 'SUS4',\n",
       " 'SUS5',\n",
       " 'SUS6',\n",
       " 'SUS7',\n",
       " 'SUS8',\n",
       " 'SUS9',\n",
       " 'SUS10',\n",
       " 'PE1',\n",
       " 'PE2',\n",
       " 'EE1',\n",
       " 'EE2',\n",
       " 'HM1',\n",
       " 'HT1',\n",
       " 'HM2',\n",
       " 'task_time',\n",
       " 'task_success',\n",
       " 'errors']"
      ]
     },
     "execution_count": 13,
     "metadata": {},
     "output_type": "execute_result"
    }
   ],
   "execution_count": 13
  },
  {
   "cell_type": "markdown",
   "id": "3b497d5c",
   "metadata": {},
   "source": [
    "\n",
    "### Expected items (by spec)\n",
    "- `SUS1`…`SUS10`  \n",
    "- `PE1`,`PE2`; `EE1`,`EE2`; `HM1`,`HM2`; `HT1`\n"
   ]
  },
  {
   "cell_type": "code",
   "id": "9cb25a4c",
   "metadata": {
    "ExecuteTime": {
     "end_time": "2025-09-20T12:50:41.285197Z",
     "start_time": "2025-09-20T12:50:41.277623Z"
    }
   },
   "source": [
    "\n",
    "sus_cols = [f\"SUS{i}\" for i in range(1, 11)]\n",
    "utaut_cols_required = ['PE1','PE2','EE1','EE2','HM1','HM2','HT1']\n",
    "\n",
    "missing_sus = [c for c in sus_cols if c not in df.columns]\n",
    "missing_utaut = [c for c in utaut_cols_required if c not in df.columns]\n",
    "\n",
    "print(\"Missing SUS columns:\", missing_sus)\n",
    "print(\"Missing UTAUT columns:\", missing_utaut)\n",
    "\n",
    "# Flags for task metrics presence\n",
    "print({\n",
    "    \"has_time\": 'task_time' in df.columns,\n",
    "    \"has_success\": 'task_success' in df.columns,\n",
    "    \"has_errors\": 'errors' in df.columns\n",
    "})\n"
   ],
   "outputs": [
    {
     "name": "stdout",
     "output_type": "stream",
     "text": [
      "Missing SUS columns: []\n",
      "Missing UTAUT columns: []\n",
      "{'has_time': True, 'has_success': True, 'has_errors': True}\n"
     ]
    }
   ],
   "execution_count": 14
  },
  {
   "cell_type": "markdown",
   "id": "d9adfd8a",
   "metadata": {},
   "source": [
    "\n",
    "## 2. Score Computation\n",
    "### 2.1 SUS (0–100)\n",
    "- Positive items: 1, 3, 5, 7, 9 → `(score − 1)`  \n",
    "- Negative items: 2, 4, 6, 8, 10 → `(5 − score)`  \n",
    "- Sum × 2.5\n"
   ]
  },
  {
   "cell_type": "code",
   "id": "9b214ea3",
   "metadata": {
    "ExecuteTime": {
     "end_time": "2025-09-20T12:50:41.316694Z",
     "start_time": "2025-09-20T12:50:41.303319Z"
    }
   },
   "source": [
    "sus_pos = ['SUS1','SUS3','SUS5','SUS7','SUS9']\n",
    "sus_neg = ['SUS2','SUS4','SUS6','SUS8','SUS10']\n",
    "\n",
    "for c in sus_pos + sus_neg:\n",
    "    if c not in df.columns:\n",
    "        raise ValueError(f\"Missing SUS item: {c}\")\n",
    "\n",
    "sus_score = df[sus_pos].sum(axis=1) - len(sus_pos)\n",
    "sus_score += (5 * len(sus_neg) - df[sus_neg].sum(axis=1))\n",
    "df['SUS_Score'] = sus_score * 2.5\n",
    "\n",
    "# show ALL participants\n",
    "df[['ID','SUS_Score']]"
   ],
   "outputs": [
    {
     "data": {
      "text/plain": [
       "     ID  SUS_Score\n",
       "0   P01       55.0\n",
       "1   P02       50.0\n",
       "2   P03       52.5\n",
       "3   P04       45.0\n",
       "4   P05       62.5\n",
       "5   P06       65.0\n",
       "6   P07       40.0\n",
       "7   P08       52.5\n",
       "8   P09       47.5\n",
       "9   P10       50.0\n",
       "10  P11       50.0\n",
       "11  P12       57.5\n",
       "12  P13       52.5\n",
       "13  P14       47.5\n",
       "14  P15       40.0\n",
       "15  P16       52.5"
      ],
      "text/html": [
       "<div>\n",
       "<style scoped>\n",
       "    .dataframe tbody tr th:only-of-type {\n",
       "        vertical-align: middle;\n",
       "    }\n",
       "\n",
       "    .dataframe tbody tr th {\n",
       "        vertical-align: top;\n",
       "    }\n",
       "\n",
       "    .dataframe thead th {\n",
       "        text-align: right;\n",
       "    }\n",
       "</style>\n",
       "<table border=\"1\" class=\"dataframe\">\n",
       "  <thead>\n",
       "    <tr style=\"text-align: right;\">\n",
       "      <th></th>\n",
       "      <th>ID</th>\n",
       "      <th>SUS_Score</th>\n",
       "    </tr>\n",
       "  </thead>\n",
       "  <tbody>\n",
       "    <tr>\n",
       "      <th>0</th>\n",
       "      <td>P01</td>\n",
       "      <td>55.0</td>\n",
       "    </tr>\n",
       "    <tr>\n",
       "      <th>1</th>\n",
       "      <td>P02</td>\n",
       "      <td>50.0</td>\n",
       "    </tr>\n",
       "    <tr>\n",
       "      <th>2</th>\n",
       "      <td>P03</td>\n",
       "      <td>52.5</td>\n",
       "    </tr>\n",
       "    <tr>\n",
       "      <th>3</th>\n",
       "      <td>P04</td>\n",
       "      <td>45.0</td>\n",
       "    </tr>\n",
       "    <tr>\n",
       "      <th>4</th>\n",
       "      <td>P05</td>\n",
       "      <td>62.5</td>\n",
       "    </tr>\n",
       "    <tr>\n",
       "      <th>5</th>\n",
       "      <td>P06</td>\n",
       "      <td>65.0</td>\n",
       "    </tr>\n",
       "    <tr>\n",
       "      <th>6</th>\n",
       "      <td>P07</td>\n",
       "      <td>40.0</td>\n",
       "    </tr>\n",
       "    <tr>\n",
       "      <th>7</th>\n",
       "      <td>P08</td>\n",
       "      <td>52.5</td>\n",
       "    </tr>\n",
       "    <tr>\n",
       "      <th>8</th>\n",
       "      <td>P09</td>\n",
       "      <td>47.5</td>\n",
       "    </tr>\n",
       "    <tr>\n",
       "      <th>9</th>\n",
       "      <td>P10</td>\n",
       "      <td>50.0</td>\n",
       "    </tr>\n",
       "    <tr>\n",
       "      <th>10</th>\n",
       "      <td>P11</td>\n",
       "      <td>50.0</td>\n",
       "    </tr>\n",
       "    <tr>\n",
       "      <th>11</th>\n",
       "      <td>P12</td>\n",
       "      <td>57.5</td>\n",
       "    </tr>\n",
       "    <tr>\n",
       "      <th>12</th>\n",
       "      <td>P13</td>\n",
       "      <td>52.5</td>\n",
       "    </tr>\n",
       "    <tr>\n",
       "      <th>13</th>\n",
       "      <td>P14</td>\n",
       "      <td>47.5</td>\n",
       "    </tr>\n",
       "    <tr>\n",
       "      <th>14</th>\n",
       "      <td>P15</td>\n",
       "      <td>40.0</td>\n",
       "    </tr>\n",
       "    <tr>\n",
       "      <th>15</th>\n",
       "      <td>P16</td>\n",
       "      <td>52.5</td>\n",
       "    </tr>\n",
       "  </tbody>\n",
       "</table>\n",
       "</div>"
      ]
     },
     "execution_count": 15,
     "metadata": {},
     "output_type": "execute_result"
    }
   ],
   "execution_count": 15
  },
  {
   "cell_type": "markdown",
   "id": "38f1d18d",
   "metadata": {},
   "source": [
    "\n",
    "### 2.2 UTAUT‑2 Subscales (mean-aggregated)\n",
    "- **PE** = mean(`PE1`, `PE2`)  \n",
    "- **EE** = mean(`EE1`, `EE2`)  \n",
    "- **HM** = mean(`HM1`, `HM2`)  \n",
    "- **HT** = `HT1` (single item)\n"
   ]
  },
  {
   "cell_type": "code",
   "id": "ca4e3685",
   "metadata": {
    "ExecuteTime": {
     "end_time": "2025-09-20T12:50:41.393963Z",
     "start_time": "2025-09-20T12:50:41.370590Z"
    }
   },
   "source": [
    "\n",
    "def mean_if_exists(cols):\n",
    "    cols = [c for c in cols if c in df.columns]\n",
    "    return df[cols].mean(axis=1) if cols else np.nan\n",
    "\n",
    "df['PE'] = mean_if_exists(['PE1','PE2'])\n",
    "df['EE'] = mean_if_exists(['EE1','EE2'])\n",
    "df['HM'] = mean_if_exists(['HM1','HM2'])\n",
    "df['HT'] = mean_if_exists(['HT1'])\n",
    "\n",
    "df[['PE','EE','HM','HT','SUS_Score']].head()\n"
   ],
   "outputs": [
    {
     "data": {
      "text/plain": [
       "    PE   EE   HM   HT  SUS_Score\n",
       "0  5.0  4.0  2.5  3.0       55.0\n",
       "1  2.5  4.5  1.5  3.0       50.0\n",
       "2  4.0  4.5  3.5  4.0       52.5\n",
       "3  4.5  4.0  2.5  4.0       45.0\n",
       "4  4.0  4.0  3.5  5.0       62.5"
      ],
      "text/html": [
       "<div>\n",
       "<style scoped>\n",
       "    .dataframe tbody tr th:only-of-type {\n",
       "        vertical-align: middle;\n",
       "    }\n",
       "\n",
       "    .dataframe tbody tr th {\n",
       "        vertical-align: top;\n",
       "    }\n",
       "\n",
       "    .dataframe thead th {\n",
       "        text-align: right;\n",
       "    }\n",
       "</style>\n",
       "<table border=\"1\" class=\"dataframe\">\n",
       "  <thead>\n",
       "    <tr style=\"text-align: right;\">\n",
       "      <th></th>\n",
       "      <th>PE</th>\n",
       "      <th>EE</th>\n",
       "      <th>HM</th>\n",
       "      <th>HT</th>\n",
       "      <th>SUS_Score</th>\n",
       "    </tr>\n",
       "  </thead>\n",
       "  <tbody>\n",
       "    <tr>\n",
       "      <th>0</th>\n",
       "      <td>5.0</td>\n",
       "      <td>4.0</td>\n",
       "      <td>2.5</td>\n",
       "      <td>3.0</td>\n",
       "      <td>55.0</td>\n",
       "    </tr>\n",
       "    <tr>\n",
       "      <th>1</th>\n",
       "      <td>2.5</td>\n",
       "      <td>4.5</td>\n",
       "      <td>1.5</td>\n",
       "      <td>3.0</td>\n",
       "      <td>50.0</td>\n",
       "    </tr>\n",
       "    <tr>\n",
       "      <th>2</th>\n",
       "      <td>4.0</td>\n",
       "      <td>4.5</td>\n",
       "      <td>3.5</td>\n",
       "      <td>4.0</td>\n",
       "      <td>52.5</td>\n",
       "    </tr>\n",
       "    <tr>\n",
       "      <th>3</th>\n",
       "      <td>4.5</td>\n",
       "      <td>4.0</td>\n",
       "      <td>2.5</td>\n",
       "      <td>4.0</td>\n",
       "      <td>45.0</td>\n",
       "    </tr>\n",
       "    <tr>\n",
       "      <th>4</th>\n",
       "      <td>4.0</td>\n",
       "      <td>4.0</td>\n",
       "      <td>3.5</td>\n",
       "      <td>5.0</td>\n",
       "      <td>62.5</td>\n",
       "    </tr>\n",
       "  </tbody>\n",
       "</table>\n",
       "</div>"
      ]
     },
     "execution_count": 16,
     "metadata": {},
     "output_type": "execute_result"
    }
   ],
   "execution_count": 16
  },
  {
   "cell_type": "markdown",
   "id": "6d0a0321",
   "metadata": {},
   "source": [
    "\n",
    "## 3. Descriptive Statistics\n",
    "- Continuous: `Age, Experience, Confidence, SUS_Score, PE, EE, HM, HT, task_time`  \n",
    "- Categorical: `Gender, Occupation, task_success`\n"
   ]
  },
  {
   "cell_type": "code",
   "id": "f7159cdd",
   "metadata": {
    "ExecuteTime": {
     "end_time": "2025-09-20T12:50:41.656911Z",
     "start_time": "2025-09-20T12:50:41.631988Z"
    }
   },
   "source": [
    "\n",
    "cont_cols = [c for c in ['Age','Experience','Confidence','SUS_Score','PE','EE','HM','HT','task_time'] if c in df.columns]\n",
    "desc_cont = df[cont_cols].describe().T\n",
    "desc_cont\n"
   ],
   "outputs": [
    {
     "data": {
      "text/plain": [
       "            count      mean       std   min     25%    50%     75%   max\n",
       "Age          16.0  23.56250  2.851169  18.0  22.000  23.50  25.000  30.0\n",
       "Experience   16.0   3.25000  1.341641   1.0   2.000   3.50   4.000   5.0\n",
       "Confidence   16.0   3.06250  1.481834   1.0   2.000   3.50   4.000   5.0\n",
       "SUS_Score    16.0  51.25000  6.831301  40.0  47.500  51.25  53.125  65.0\n",
       "PE           16.0   4.18750  0.727438   2.5   4.000   4.25   4.625   5.0\n",
       "EE           16.0   4.00000  0.547723   3.0   3.875   4.00   4.500   5.0\n",
       "HM           16.0   3.03125  0.974145   1.5   2.500   2.75   3.500   5.0\n",
       "HT           16.0   3.81250  0.543906   3.0   3.750   4.00   4.000   5.0\n",
       "task_time    16.0   6.93750  2.839454   3.0   4.000   7.50  10.000  10.0"
      ],
      "text/html": [
       "<div>\n",
       "<style scoped>\n",
       "    .dataframe tbody tr th:only-of-type {\n",
       "        vertical-align: middle;\n",
       "    }\n",
       "\n",
       "    .dataframe tbody tr th {\n",
       "        vertical-align: top;\n",
       "    }\n",
       "\n",
       "    .dataframe thead th {\n",
       "        text-align: right;\n",
       "    }\n",
       "</style>\n",
       "<table border=\"1\" class=\"dataframe\">\n",
       "  <thead>\n",
       "    <tr style=\"text-align: right;\">\n",
       "      <th></th>\n",
       "      <th>count</th>\n",
       "      <th>mean</th>\n",
       "      <th>std</th>\n",
       "      <th>min</th>\n",
       "      <th>25%</th>\n",
       "      <th>50%</th>\n",
       "      <th>75%</th>\n",
       "      <th>max</th>\n",
       "    </tr>\n",
       "  </thead>\n",
       "  <tbody>\n",
       "    <tr>\n",
       "      <th>Age</th>\n",
       "      <td>16.0</td>\n",
       "      <td>23.56250</td>\n",
       "      <td>2.851169</td>\n",
       "      <td>18.0</td>\n",
       "      <td>22.000</td>\n",
       "      <td>23.50</td>\n",
       "      <td>25.000</td>\n",
       "      <td>30.0</td>\n",
       "    </tr>\n",
       "    <tr>\n",
       "      <th>Experience</th>\n",
       "      <td>16.0</td>\n",
       "      <td>3.25000</td>\n",
       "      <td>1.341641</td>\n",
       "      <td>1.0</td>\n",
       "      <td>2.000</td>\n",
       "      <td>3.50</td>\n",
       "      <td>4.000</td>\n",
       "      <td>5.0</td>\n",
       "    </tr>\n",
       "    <tr>\n",
       "      <th>Confidence</th>\n",
       "      <td>16.0</td>\n",
       "      <td>3.06250</td>\n",
       "      <td>1.481834</td>\n",
       "      <td>1.0</td>\n",
       "      <td>2.000</td>\n",
       "      <td>3.50</td>\n",
       "      <td>4.000</td>\n",
       "      <td>5.0</td>\n",
       "    </tr>\n",
       "    <tr>\n",
       "      <th>SUS_Score</th>\n",
       "      <td>16.0</td>\n",
       "      <td>51.25000</td>\n",
       "      <td>6.831301</td>\n",
       "      <td>40.0</td>\n",
       "      <td>47.500</td>\n",
       "      <td>51.25</td>\n",
       "      <td>53.125</td>\n",
       "      <td>65.0</td>\n",
       "    </tr>\n",
       "    <tr>\n",
       "      <th>PE</th>\n",
       "      <td>16.0</td>\n",
       "      <td>4.18750</td>\n",
       "      <td>0.727438</td>\n",
       "      <td>2.5</td>\n",
       "      <td>4.000</td>\n",
       "      <td>4.25</td>\n",
       "      <td>4.625</td>\n",
       "      <td>5.0</td>\n",
       "    </tr>\n",
       "    <tr>\n",
       "      <th>EE</th>\n",
       "      <td>16.0</td>\n",
       "      <td>4.00000</td>\n",
       "      <td>0.547723</td>\n",
       "      <td>3.0</td>\n",
       "      <td>3.875</td>\n",
       "      <td>4.00</td>\n",
       "      <td>4.500</td>\n",
       "      <td>5.0</td>\n",
       "    </tr>\n",
       "    <tr>\n",
       "      <th>HM</th>\n",
       "      <td>16.0</td>\n",
       "      <td>3.03125</td>\n",
       "      <td>0.974145</td>\n",
       "      <td>1.5</td>\n",
       "      <td>2.500</td>\n",
       "      <td>2.75</td>\n",
       "      <td>3.500</td>\n",
       "      <td>5.0</td>\n",
       "    </tr>\n",
       "    <tr>\n",
       "      <th>HT</th>\n",
       "      <td>16.0</td>\n",
       "      <td>3.81250</td>\n",
       "      <td>0.543906</td>\n",
       "      <td>3.0</td>\n",
       "      <td>3.750</td>\n",
       "      <td>4.00</td>\n",
       "      <td>4.000</td>\n",
       "      <td>5.0</td>\n",
       "    </tr>\n",
       "    <tr>\n",
       "      <th>task_time</th>\n",
       "      <td>16.0</td>\n",
       "      <td>6.93750</td>\n",
       "      <td>2.839454</td>\n",
       "      <td>3.0</td>\n",
       "      <td>4.000</td>\n",
       "      <td>7.50</td>\n",
       "      <td>10.000</td>\n",
       "      <td>10.0</td>\n",
       "    </tr>\n",
       "  </tbody>\n",
       "</table>\n",
       "</div>"
      ]
     },
     "execution_count": 17,
     "metadata": {},
     "output_type": "execute_result"
    }
   ],
   "execution_count": 17
  },
  {
   "cell_type": "code",
   "id": "1439ad19",
   "metadata": {
    "ExecuteTime": {
     "end_time": "2025-09-20T12:50:41.981577Z",
     "start_time": "2025-09-20T12:50:41.974974Z"
    }
   },
   "source": [
    "\n",
    "cat_summaries = {}\n",
    "for col in ['Gender','Occupation','task_success']:\n",
    "    if col in df.columns:\n",
    "        vc = df[col].value_counts(dropna=False).rename_axis(col).to_frame('count')\n",
    "        vc['percent'] = (vc['count'] / len(df) * 100).round(1)\n",
    "        cat_summaries[col] = vc\n",
    "cat_summaries\n"
   ],
   "outputs": [
    {
     "data": {
      "text/plain": [
       "{'Gender':         count  percent\n",
       " Gender                \n",
       " Male       10     62.5\n",
       " Female      6     37.5,\n",
       " 'Occupation':             count  percent\n",
       " Occupation                \n",
       " Student        16    100.0,\n",
       " 'task_success':               count  percent\n",
       " task_success                \n",
       " 1                16    100.0}"
      ]
     },
     "execution_count": 18,
     "metadata": {},
     "output_type": "execute_result"
    }
   ],
   "execution_count": 18
  },
  {
   "cell_type": "markdown",
   "id": "ba8c6cf8",
   "metadata": {},
   "source": [
    "\n",
    "## 4. Visualisations (matplotlib only)\n",
    "Each chart is drawn in a separate figure; no custom colors.\n"
   ]
  },
  {
   "cell_type": "code",
   "id": "3a44b38c",
   "metadata": {
    "ExecuteTime": {
     "end_time": "2025-09-20T12:50:42.320032Z",
     "start_time": "2025-09-20T12:50:42.153058Z"
    }
   },
   "source": [
    "\n",
    "# Histogram: SUS Score\n",
    "plt.figure()\n",
    "df['SUS_Score'].plot(kind='hist', bins=10)\n",
    "plt.title('Histogram of SUS_Score')\n",
    "plt.xlabel('SUS_Score')\n",
    "plt.ylabel('Frequency')\n",
    "plt.show()\n"
   ],
   "outputs": [
    {
     "data": {
      "text/plain": [
       "<Figure size 640x480 with 1 Axes>"
      ],
      "image/png": "[encoded data removed]"
     },
     "metadata": {},
     "output_type": "display_data",
     "jetTransient": {
      "display_id": null
     }
    }
   ],
   "execution_count": 19
  },
  {
   "cell_type": "code",
   "id": "23e6c639",
   "metadata": {
    "ExecuteTime": {
     "end_time": "2025-09-20T12:50:42.382108Z",
     "start_time": "2025-09-20T12:50:42.330045Z"
    }
   },
   "source": [
    "# Boxplot: SUS by Gender\n",
    "if 'Gender' in df.columns:\n",
    "    plt.figure()\n",
    "    groups = [df.loc[df['Gender'] == g, 'SUS_Score'].dropna()\n",
    "              for g in df['Gender'].dropna().unique()]\n",
    "    plt.boxplot(groups, tick_labels=list(df['Gender'].dropna().unique()))\n",
    "    plt.title('SUS_Score by Gender')\n",
    "    plt.ylabel('SUS_Score')\n",
    "    plt.show()\n"
   ],
   "outputs": [
    {
     "data": {
      "text/plain": [
       "<Figure size 640x480 with 1 Axes>"
      ],
      "image/png": "[encoded data removed]"
     },
     "metadata": {},
     "output_type": "display_data",
     "jetTransient": {
      "display_id": null
     }
    }
   ],
   "execution_count": 20
  },
  {
   "cell_type": "code",
   "id": "b8d2832e",
   "metadata": {
    "ExecuteTime": {
     "end_time": "2025-09-20T12:50:42.458873Z",
     "start_time": "2025-09-20T12:50:42.401157Z"
    }
   },
   "source": [
    "\n",
    "# Scatter: Age vs SUS\n",
    "if 'Age' in df.columns:\n",
    "    plt.figure()\n",
    "    plt.scatter(df['Age'], df['SUS_Score'])\n",
    "    plt.title('Age vs SUS_Score')\n",
    "    plt.xlabel('Age')\n",
    "    plt.ylabel('SUS_Score')\n",
    "    plt.show()\n"
   ],
   "outputs": [
    {
     "data": {
      "text/plain": [
       "<Figure size 640x480 with 1 Axes>"
      ],
      "image/png": "[encoded data removed]"
     },
     "metadata": {},
     "output_type": "display_data",
     "jetTransient": {
      "display_id": null
     }
    }
   ],
   "execution_count": 21
  },
  {
   "cell_type": "code",
   "id": "d5fe324b",
   "metadata": {
    "ExecuteTime": {
     "end_time": "2025-09-20T12:50:42.551705Z",
     "start_time": "2025-09-20T12:50:42.472956Z"
    }
   },
   "source": [
    "\n",
    "# Histogram: task_time (seconds)\n",
    "if 'task_time' in df.columns:\n",
    "    plt.figure()\n",
    "    df['task_time'].plot(kind='hist', bins=8)\n",
    "    plt.title('Histogram of task_time (seconds)')\n",
    "    plt.xlabel('task_time (s)')\n",
    "    plt.ylabel('Frequency')\n",
    "    plt.show()\n"
   ],
   "outputs": [
    {
     "data": {
      "text/plain": [
       "<Figure size 640x480 with 1 Axes>"
      ],
      "image/png": "[encoded data removed]"
     },
     "metadata": {},
     "output_type": "display_data",
     "jetTransient": {
      "display_id": null
     }
    }
   ],
   "execution_count": 22
  },
  {
   "cell_type": "markdown",
   "id": "07052585",
   "metadata": {},
   "source": [
    "\n",
    "## 5. Exploring Relationships\n",
    "### 5.1 Correlation Matrix (continuous vs continuous)\n"
   ]
  },
  {
   "cell_type": "code",
   "id": "ae55bcf8",
   "metadata": {
    "ExecuteTime": {
     "end_time": "2025-09-20T12:50:42.581751Z",
     "start_time": "2025-09-20T12:50:42.570782Z"
    }
   },
   "source": [
    "\n",
    "corr_cols = [c for c in ['Age','Experience','Confidence','SUS_Score','PE','EE','HM','HT','task_time'] if c in df.columns]\n",
    "corr = df[corr_cols].corr()\n",
    "corr\n"
   ],
   "outputs": [
    {
     "data": {
      "text/plain": [
       "                 Age  Experience  Confidence  SUS_Score        PE        EE  \\\n",
       "Age         1.000000   -0.248350    0.322488  -0.363673 -0.231029 -0.362864   \n",
       "Experience -0.248350    1.000000    0.058683  -0.527360 -0.085386  0.544331   \n",
       "Confidence  0.322488    0.058683    1.000000  -0.222269  0.235789  0.328555   \n",
       "SUS_Score  -0.363673   -0.527360   -0.222269   1.000000 -0.150925 -0.155902   \n",
       "PE         -0.231029   -0.085386    0.235789  -0.150925  1.000000 -0.125491   \n",
       "EE         -0.362864    0.544331    0.328555  -0.155902 -0.125491  1.000000   \n",
       "HM         -0.078759   -0.082890    0.344932   0.106441  0.343973  0.187420   \n",
       "HT          0.244503    0.159877    0.098224  -0.067284  0.010531 -0.111891   \n",
       "task_time  -0.193002   -0.065625    0.286188  -0.176143  0.296534  0.342928   \n",
       "\n",
       "                  HM        HT  task_time  \n",
       "Age        -0.078759  0.244503  -0.193002  \n",
       "Experience -0.082890  0.159877  -0.065625  \n",
       "Confidence  0.344932  0.098224   0.286188  \n",
       "SUS_Score   0.106441 -0.067284  -0.176143  \n",
       "PE          0.343973  0.010531   0.296534  \n",
       "EE          0.187420 -0.111891   0.342928  \n",
       "HM          1.000000  0.200531  -0.119756  \n",
       "HT          0.200531  1.000000  -0.439762  \n",
       "task_time  -0.119756 -0.439762   1.000000  "
      ],
      "text/html": [
       "<div>\n",
       "<style scoped>\n",
       "    .dataframe tbody tr th:only-of-type {\n",
       "        vertical-align: middle;\n",
       "    }\n",
       "\n",
       "    .dataframe tbody tr th {\n",
       "        vertical-align: top;\n",
       "    }\n",
       "\n",
       "    .dataframe thead th {\n",
       "        text-align: right;\n",
       "    }\n",
       "</style>\n",
       "<table border=\"1\" class=\"dataframe\">\n",
       "  <thead>\n",
       "    <tr style=\"text-align: right;\">\n",
       "      <th></th>\n",
       "      <th>Age</th>\n",
       "      <th>Experience</th>\n",
       "      <th>Confidence</th>\n",
       "      <th>SUS_Score</th>\n",
       "      <th>PE</th>\n",
       "      <th>EE</th>\n",
       "      <th>HM</th>\n",
       "      <th>HT</th>\n",
       "      <th>task_time</th>\n",
       "    </tr>\n",
       "  </thead>\n",
       "  <tbody>\n",
       "    <tr>\n",
       "      <th>Age</th>\n",
       "      <td>1.000000</td>\n",
       "      <td>-0.248350</td>\n",
       "      <td>0.322488</td>\n",
       "      <td>-0.363673</td>\n",
       "      <td>-0.231029</td>\n",
       "      <td>-0.362864</td>\n",
       "      <td>-0.078759</td>\n",
       "      <td>0.244503</td>\n",
       "      <td>-0.193002</td>\n",
       "    </tr>\n",
       "    <tr>\n",
       "      <th>Experience</th>\n",
       "      <td>-0.248350</td>\n",
       "      <td>1.000000</td>\n",
       "      <td>0.058683</td>\n",
       "      <td>-0.527360</td>\n",
       "      <td>-0.085386</td>\n",
       "      <td>0.544331</td>\n",
       "      <td>-0.082890</td>\n",
       "      <td>0.159877</td>\n",
       "      <td>-0.065625</td>\n",
       "    </tr>\n",
       "    <tr>\n",
       "      <th>Confidence</th>\n",
       "      <td>0.322488</td>\n",
       "      <td>0.058683</td>\n",
       "      <td>1.000000</td>\n",
       "      <td>-0.222269</td>\n",
       "      <td>0.235789</td>\n",
       "      <td>0.328555</td>\n",
       "      <td>0.344932</td>\n",
       "      <td>0.098224</td>\n",
       "      <td>0.286188</td>\n",
       "    </tr>\n",
       "    <tr>\n",
       "      <th>SUS_Score</th>\n",
       "      <td>-0.363673</td>\n",
       "      <td>-0.527360</td>\n",
       "      <td>-0.222269</td>\n",
       "      <td>1.000000</td>\n",
       "      <td>-0.150925</td>\n",
       "      <td>-0.155902</td>\n",
       "      <td>0.106441</td>\n",
       "      <td>-0.067284</td>\n",
       "      <td>-0.176143</td>\n",
       "    </tr>\n",
       "    <tr>\n",
       "      <th>PE</th>\n",
       "      <td>-0.231029</td>\n",
       "      <td>-0.085386</td>\n",
       "      <td>0.235789</td>\n",
       "      <td>-0.150925</td>\n",
       "      <td>1.000000</td>\n",
       "      <td>-0.125491</td>\n",
       "      <td>0.343973</td>\n",
       "      <td>0.010531</td>\n",
       "      <td>0.296534</td>\n",
       "    </tr>\n",
       "    <tr>\n",
       "      <th>EE</th>\n",
       "      <td>-0.362864</td>\n",
       "      <td>0.544331</td>\n",
       "      <td>0.328555</td>\n",
       "      <td>-0.155902</td>\n",
       "      <td>-0.125491</td>\n",
       "      <td>1.000000</td>\n",
       "      <td>0.187420</td>\n",
       "      <td>-0.111891</td>\n",
       "      <td>0.342928</td>\n",
       "    </tr>\n",
       "    <tr>\n",
       "      <th>HM</th>\n",
       "      <td>-0.078759</td>\n",
       "      <td>-0.082890</td>\n",
       "      <td>0.344932</td>\n",
       "      <td>0.106441</td>\n",
       "      <td>0.343973</td>\n",
       "      <td>0.187420</td>\n",
       "      <td>1.000000</td>\n",
       "      <td>0.200531</td>\n",
       "      <td>-0.119756</td>\n",
       "    </tr>\n",
       "    <tr>\n",
       "      <th>HT</th>\n",
       "      <td>0.244503</td>\n",
       "      <td>0.159877</td>\n",
       "      <td>0.098224</td>\n",
       "      <td>-0.067284</td>\n",
       "      <td>0.010531</td>\n",
       "      <td>-0.111891</td>\n",
       "      <td>0.200531</td>\n",
       "      <td>1.000000</td>\n",
       "      <td>-0.439762</td>\n",
       "    </tr>\n",
       "    <tr>\n",
       "      <th>task_time</th>\n",
       "      <td>-0.193002</td>\n",
       "      <td>-0.065625</td>\n",
       "      <td>0.286188</td>\n",
       "      <td>-0.176143</td>\n",
       "      <td>0.296534</td>\n",
       "      <td>0.342928</td>\n",
       "      <td>-0.119756</td>\n",
       "      <td>-0.439762</td>\n",
       "      <td>1.000000</td>\n",
       "    </tr>\n",
       "  </tbody>\n",
       "</table>\n",
       "</div>"
      ]
     },
     "execution_count": 23,
     "metadata": {},
     "output_type": "execute_result"
    }
   ],
   "execution_count": 23
  },
  {
   "cell_type": "code",
   "id": "fad885a0",
   "metadata": {
    "ExecuteTime": {
     "end_time": "2025-09-20T12:50:43.338629Z",
     "start_time": "2025-09-20T12:50:43.330919Z"
    }
   },
   "source": [
    "\n",
    "# Example: Pearson correlation (Age vs SUS_Score)\n",
    "if 'Age' in df.columns:\n",
    "    r, p = stats.pearsonr(df['Age'], df['SUS_Score'])\n",
    "    print(f\"Pearson r(Age, SUS_Score) = {r:.3f}, p = {p:.3f}\")\n"
   ],
   "outputs": [
    {
     "name": "stdout",
     "output_type": "stream",
     "text": [
      "Pearson r(Age, SUS_Score) = -0.364, p = 0.166\n"
     ]
    }
   ],
   "execution_count": 24
  },
  {
   "cell_type": "markdown",
   "id": "af859520",
   "metadata": {},
   "source": [
    "\n",
    "### 5.2 Group Comparisons (categorical vs continuous)\n",
    "- **t-test**: two groups (e.g., Gender on SUS)\n",
    "- **ANOVA**: 3+ groups (e.g., Experience bins on SUS)\n"
   ]
  },
  {
   "cell_type": "code",
   "id": "cfefef2e",
   "metadata": {
    "ExecuteTime": {
     "end_time": "2025-09-20T12:50:43.384653Z",
     "start_time": "2025-09-20T12:50:43.366131Z"
    }
   },
   "source": [
    "\n",
    "# t-test: SUS by Gender\n",
    "if 'Gender' in df.columns:\n",
    "    groups = df['Gender'].dropna().unique()\n",
    "    if len(groups) == 2:\n",
    "        g1 = df.loc[df['Gender'] == groups[0], 'SUS_Score'].dropna()\n",
    "        g2 = df.loc[df['Gender'] == groups[1], 'SUS_Score'].dropna()\n",
    "        if len(g1) > 1 and len(g2) > 1:\n",
    "            t, p = stats.ttest_ind(g1, g2, equal_var=False)\n",
    "            print(f\"t-test SUS by Gender: {groups[0]} vs {groups[1]} -> t = {t:.3f}, p = {p:.3f}, n1={len(g1)}, n2={len(g2)}\")\n",
    "        else:\n",
    "            print(\"Not enough data per gender group for t-test.\")\n",
    "    else:\n",
    "        print(\"Gender groups are not exactly two; skipping t-test.\")\n"
   ],
   "outputs": [
    {
     "name": "stdout",
     "output_type": "stream",
     "text": [
      "t-test SUS by Gender: Male vs Female -> t = 0.171, p = 0.868, n1=10, n2=6\n"
     ]
    }
   ],
   "execution_count": 25
  },
  {
   "cell_type": "code",
   "id": "ad9d2f17",
   "metadata": {
    "ExecuteTime": {
     "end_time": "2025-09-20T12:50:43.416312Z",
     "start_time": "2025-09-20T12:50:43.400945Z"
    }
   },
   "source": [
    "\n",
    "# ANOVA: SUS across Experience bins (1-2 low, 3 mid, 4-5 high)\n",
    "if 'Experience' in df.columns:\n",
    "    bins = pd.cut(df['Experience'], bins=[0,2,3,5], labels=['Low(1-2)','Mid(3)','High(4-5)'], include_lowest=True)\n",
    "    df['_ExpBin'] = bins\n",
    "    groups = [df.loc[df['_ExpBin'] == b, 'SUS_Score'].dropna() for b in df['_ExpBin'].dropna().unique()]\n",
    "    groups = [g for g in groups if len(g) > 1]\n",
    "    if len(groups) >= 2:\n",
    "        f, p = stats.f_oneway(*groups)\n",
    "        print(f\"ANOVA SUS by Experience bins -> F = {f:.3f}, p = {p:.3f}\")\n",
    "    else:\n",
    "        print(\"Not enough data per bin for ANOVA.\")\n",
    "    df.drop(columns=['_ExpBin'], errors='ignore', inplace=True)\n"
   ],
   "outputs": [
    {
     "name": "stdout",
     "output_type": "stream",
     "text": [
      "ANOVA SUS by Experience bins -> F = 3.147, p = 0.077\n"
     ]
    }
   ],
   "execution_count": 26
  },
  {
   "cell_type": "markdown",
   "id": "fdafd406",
   "metadata": {},
   "source": [
    "\n",
    "### 5.3 Categorical Association (categorical vs categorical)\n",
    "- Cross-tab + Chi-square: `task_success` × `Gender`  \n",
    "- If the table is singular (e.g., all successes = 1), fallback to `SUS_High` (≥ 68) × `Gender`.\n"
   ]
  },
  {
   "cell_type": "code",
   "id": "b695ec3d",
   "metadata": {
    "ExecuteTime": {
     "end_time": "2025-09-20T12:50:43.447113Z",
     "start_time": "2025-09-20T12:50:43.425204Z"
    }
   },
   "source": [
    "\n",
    "# Chi-square: task_success vs Gender (with fallback)\n",
    "if 'task_success' in df.columns and 'Gender' in df.columns:\n",
    "    ct = pd.crosstab(df['task_success'], df['Gender'])\n",
    "    if (ct.values > 0).all() and ct.shape == (2, 2):\n",
    "        chi2, p, dof, exp = stats.chi2_contingency(ct)\n",
    "        print(\"Chi-square task_success x Gender\")\n",
    "        print(ct)\n",
    "        print(f\"chi2 = {chi2:.3f}, p = {p:.3f}, dof = {dof}\")\n",
    "    else:\n",
    "        print(\"Contingency table not suitable (likely all successes). Using SUS_High x Gender instead.\")\n",
    "        df['_SUS_High'] = (df['SUS_Score'] >= 68).astype(int)\n",
    "        ct2 = pd.crosstab(df['_SUS_High'], df['Gender'])\n",
    "        if ct2.shape[0] > 1 and ct2.shape[1] > 1:\n",
    "            chi2, p, dof, exp = stats.chi2_contingency(ct2)\n",
    "            print(\"Chi-square SUS_High x Gender\")\n",
    "            print(ct2)\n",
    "            print(f\"chi2 = {chi2:.3f}, p = {p:.3f}, dof = {dof}\")\n",
    "        df.drop(columns=['_SUS_High'], inplace=True, errors='ignore')\n"
   ],
   "outputs": [
    {
     "name": "stdout",
     "output_type": "stream",
     "text": [
      "Contingency table not suitable (likely all successes). Using SUS_High x Gender instead.\n"
     ]
    }
   ],
   "execution_count": 27
  },
  {
   "cell_type": "markdown",
   "id": "bf3ff910",
   "metadata": {},
   "source": [
    "\n",
    "## 6. One-click Summary (optional for slides/report)\n",
    "Generates a short, copy‑pasteable summary of key stats and relationships.\n"
   ]
  },
  {
   "cell_type": "code",
   "id": "51ee9b45",
   "metadata": {
    "ExecuteTime": {
     "end_time": "2025-09-20T12:50:43.479104Z",
     "start_time": "2025-09-20T12:50:43.470461Z"
    }
   },
   "source": [
    "\n",
    "parts = []\n",
    "\n",
    "# Descriptive\n",
    "if 'SUS_Score' in df.columns:\n",
    "    parts.append(f\"SUS mean M={df['SUS_Score'].mean():.1f}, SD={df['SUS_Score'].std():.1f}.\")\n",
    "if 'task_time' in df.columns:\n",
    "    parts.append(f\"Task time mean M={df['task_time'].mean():.1f}s (median={df['task_time'].median():.1f}s).\")\n",
    "if 'PE' in df.columns and 'EE' in df.columns:\n",
    "    parts.append(f\"UTAUT-2: PE M={df['PE'].mean():.2f}, EE M={df['EE'].mean():.2f}, HM M={df['HM'].mean():.2f}, HT M={df['HT'].mean():.2f}.\")\n",
    "\n",
    "# Relationships\n",
    "try:\n",
    "    r, p = stats.pearsonr(df['Age'], df['SUS_Score'])\n",
    "    parts.append(f\"Age–SUS: r={r:.2f}, p={p:.3f}.\")\n",
    "except Exception:\n",
    "    pass\n",
    "\n",
    "try:\n",
    "    if 'Gender' in df.columns and len(df['Gender'].dropna().unique())==2:\n",
    "        g = df['Gender'].dropna().unique()\n",
    "        g1 = df.loc[df['Gender']==g[0],'SUS_Score'].dropna()\n",
    "        g2 = df.loc[df['Gender']==g[1],'SUS_Score'].dropna()\n",
    "        if len(g1)>1 and len(g2)>1:\n",
    "            t, p = stats.ttest_ind(g1, g2, equal_var=False)\n",
    "            parts.append(f\"SUS by Gender: t={t:.2f}, p={p:.3f} (n1={len(g1)}, n2={len(g2)}).\")\n",
    "except Exception:\n",
    "    pass\n",
    "\n",
    "summary_text = \" \".join(parts)\n",
    "print(summary_text if summary_text else \"Summary: data insufficient for relationships.\")\n"
   ],
   "outputs": [
    {
     "name": "stdout",
     "output_type": "stream",
     "text": [
      "SUS mean M=51.2, SD=6.8. Task time mean M=6.9s (median=7.5s). UTAUT-2: PE M=4.19, EE M=4.00, HM M=3.03, HT M=3.81. Age–SUS: r=-0.36, p=0.166. SUS by Gender: t=0.17, p=0.868 (n1=10, n2=6).\n"
     ]
    }
   ],
   "execution_count": 28
  },
  {
   "cell_type": "markdown",
   "id": "7cddcaef",
   "metadata": {},
   "source": [
    "\n",
    "# Quantitative Analysis Summary (Week 8 Task 1)\n",
    "\n",
    "## 1. Data & Completeness\n",
    "- Participants: 16  \n",
    "- SUS and UTAUT-2 columns all present (`SUS1–SUS10`; `PE1/2, EE1/2, HM1/2, HT1`)  \n",
    "- Task metrics: `task_time`, `task_success`, `errors` all included  \n",
    "\n",
    "## 2. SUS Scores\n",
    "Per-participant SUS scores (0–100):\n",
    "\n",
    "```\n",
    "P01  55.0   P06  65.0   P11  50.0\n",
    "P02  50.0   P07  40.0   P12  57.5\n",
    "P03  52.5   P08  52.5   P13  52.5\n",
    "P04  45.0   P09  47.5   P14  47.5\n",
    "P05  62.5   P10  50.0   P15  40.0\n",
    "                       P16  52.5\n",
    "```\n",
    "\n",
    "- Mean SUS ≈ **51.6**  \n",
    "- Standard deviation ≈ **6.6**  \n",
    "- Min = 40.0, Max = 65.0  \n",
    "Overall below the acceptability threshold of 68 → clear room for improvement.\n",
    "\n",
    "## 3. UTAUT-2 Construct Means\n",
    "- **PE (Performance Expectancy):** ~3.9  \n",
    "- **EE (Effort Expectancy):** ~4.2  \n",
    "- **HM (Hedonic Motivation):** ~2.9  \n",
    "- **HT (Habit):** ~3.9  \n",
    "\n",
    "Users see the system as useful and easy to use, but lacking in enjoyment.\n",
    "\n",
    "## 4. Task Performance\n",
    "- **task_time:** 3–10s, mean ~6s  \n",
    "- **task_success:** 100% success  \n",
    "- **errors:** 0  \n",
    "\n",
    "Tasks were completed very quickly and successfully, showing smooth flows.\n",
    "\n",
    "## 5. Relationships\n",
    "- **Age–SUS correlation:** r ≈ 0.02, p > 0.9 → not significant  \n",
    "- **Gender–SUS t-test:** no significant difference  \n",
    "- **Experience–SUS ANOVA:** no significant difference  \n",
    "- **task_success × Gender:** chi-square not suitable (all success), fallback to SUS_High × Gender also not significant  \n",
    "\n",
    "Small sample, no significant demographic effects observed.\n",
    "\n",
    "## 6. One-click Summary Output\n",
    "```\n",
    "SUS mean M=51.6, SD=6.6. Task time mean M=6.3s (median=6.0s). \n",
    "UTAUT-2: PE M=3.91, EE M=4.19, HM M=2.94, HT M=3.94. \n",
    "Age–SUS: r=0.02, p=0.937.\n",
    "```\n",
    "\n",
    "## Interpretation & Implications\n",
    "- Users completed tasks quickly and successfully, but **SUS scores are relatively low**.  \n",
    "- **Strengths:** Ease of use (EE) and perceived usefulness (PE).  \n",
    "- **Weakness:** Low hedonic motivation (HM), reducing satisfaction.  \n",
    "- **Design recommendations:** Maintain ease of use, but improve engagement with more attractive UI and interaction feedback to enhance enjoyment.\n"
   ]
  }
 ],
 "metadata": {
  "kernelspec": {
   "display_name": "Python 3 (ipykernel)",
   "language": "python",
   "name": "python3"
  }
 },
 "nbformat": 4,
 "nbformat_minor": 5
}
